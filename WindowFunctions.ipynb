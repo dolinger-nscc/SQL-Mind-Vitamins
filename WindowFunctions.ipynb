{
    "metadata": {
        "kernelspec": {
            "name": "SQL",
            "display_name": "SQL",
            "language": "sql"
        },
        "language_info": {
            "name": "sql",
            "version": ""
        }
    },
    "nbformat_minor": 2,
    "nbformat": 4,
    "cells": [
        {
            "cell_type": "markdown",
            "source": [
                "# Window Functions Common to Reporting\n",
                "\n",
                "The queries below (can be run against the Northwind sample database) illustrate some of the most common functionality needed when constructing queries for a reporting.\n",
                "\n",
                "**Note** - Remove the TOP 10 clause to return the complete dataset."
            ],
            "metadata": {
                "azdata_cell_guid": "f5466112-f82e-4eb9-9bff-7454fdfec7b1"
            },
            "attachments": {}
        },
        {
            "cell_type": "code",
            "source": [
                "USE Northwind_2023;\r\n",
                "GO\r\n",
                "-- Aggregate Functions\r\n",
                "SELECT TOP 10 ord.ShipCountry   \r\n",
                "      ,ord.ShipName\r\n",
                "\t  ,CAST(ord.ShippedDate as DATE) as 'ShippedDate'\r\n",
                "\t  ,ord.Freight\r\n",
                "\t  ,SUM(ord.Freight) OVER(PARTITION BY ord.ShipCountry) as 'WeightByCountry'\r\n",
                "FROM dbo.Orders ord\r\n",
                "ORDER BY ord.ShipCountry, ord.ShipName\r\n",
                ";"
            ],
            "metadata": {
                "azdata_cell_guid": "cc540c1c-34c5-4d02-8be2-146adab6cae0",
                "language": "sql"
            },
            "outputs": [
                {
                    "output_type": "display_data",
                    "data": {
                        "text/html": "Commands completed successfully."
                    },
                    "metadata": {}
                },
                {
                    "output_type": "display_data",
                    "data": {
                        "text/html": "(10 rows affected)"
                    },
                    "metadata": {}
                },
                {
                    "output_type": "display_data",
                    "data": {
                        "text/html": "Total execution time: 00:00:00.016"
                    },
                    "metadata": {}
                },
                {
                    "output_type": "execute_result",
                    "metadata": {},
                    "execution_count": 6,
                    "data": {
                        "application/vnd.dataresource+json": {
                            "schema": {
                                "fields": [
                                    {
                                        "name": "ShipCountry"
                                    },
                                    {
                                        "name": "ShipName"
                                    },
                                    {
                                        "name": "ShippedDate"
                                    },
                                    {
                                        "name": "Freight"
                                    },
                                    {
                                        "name": "WeightByCountry"
                                    }
                                ]
                            },
                            "data": [
                                {
                                    "ShipCountry": "Argentina",
                                    "ShipName": "Cactus Comidas para llevar",
                                    "ShippedDate": "2022-05-02",
                                    "Freight": "17.22",
                                    "WeightByCountry": "598.58"
                                },
                                {
                                    "ShipCountry": "Argentina",
                                    "ShipName": "Cactus Comidas para llevar",
                                    "ShippedDate": "2022-12-22",
                                    "Freight": "1.10",
                                    "WeightByCountry": "598.58"
                                },
                                {
                                    "ShipCountry": "Argentina",
                                    "ShipName": "Cactus Comidas para llevar",
                                    "ShippedDate": "2023-01-16",
                                    "Freight": "19.76",
                                    "WeightByCountry": "598.58"
                                },
                                {
                                    "ShipCountry": "Argentina",
                                    "ShipName": "Cactus Comidas para llevar",
                                    "ShippedDate": "2023-02-18",
                                    "Freight": "2.84",
                                    "WeightByCountry": "598.58"
                                },
                                {
                                    "ShipCountry": "Argentina",
                                    "ShipName": "Cactus Comidas para llevar",
                                    "ShippedDate": "2023-03-13",
                                    "Freight": "31.51",
                                    "WeightByCountry": "598.58"
                                },
                                {
                                    "ShipCountry": "Argentina",
                                    "ShipName": "Cactus Comidas para llevar",
                                    "ShippedDate": "NULL",
                                    "Freight": "0.33",
                                    "WeightByCountry": "598.58"
                                },
                                {
                                    "ShipCountry": "Argentina",
                                    "ShipName": "Océano Atlántico Ltda.",
                                    "ShippedDate": "2023-04-21",
                                    "Freight": "217.86",
                                    "WeightByCountry": "598.58"
                                },
                                {
                                    "ShipCountry": "Argentina",
                                    "ShipName": "Océano Atlántico Ltda.",
                                    "ShippedDate": "2023-03-27",
                                    "Freight": "49.56",
                                    "WeightByCountry": "598.58"
                                },
                                {
                                    "ShipCountry": "Argentina",
                                    "ShipName": "Océano Atlántico Ltda.",
                                    "ShippedDate": "2023-03-06",
                                    "Freight": "1.27",
                                    "WeightByCountry": "598.58"
                                },
                                {
                                    "ShipCountry": "Argentina",
                                    "ShipName": "Océano Atlántico Ltda.",
                                    "ShippedDate": "2022-05-19",
                                    "Freight": "8.12",
                                    "WeightByCountry": "598.58"
                                }
                            ]
                        },
                        "text/html": [
                            "<table>",
                            "<tr><th>ShipCountry</th><th>ShipName</th><th>ShippedDate</th><th>Freight</th><th>WeightByCountry</th></tr>",
                            "<tr><td>Argentina</td><td>Cactus Comidas para llevar</td><td>2022-05-02</td><td>17.22</td><td>598.58</td></tr>",
                            "<tr><td>Argentina</td><td>Cactus Comidas para llevar</td><td>2022-12-22</td><td>1.10</td><td>598.58</td></tr>",
                            "<tr><td>Argentina</td><td>Cactus Comidas para llevar</td><td>2023-01-16</td><td>19.76</td><td>598.58</td></tr>",
                            "<tr><td>Argentina</td><td>Cactus Comidas para llevar</td><td>2023-02-18</td><td>2.84</td><td>598.58</td></tr>",
                            "<tr><td>Argentina</td><td>Cactus Comidas para llevar</td><td>2023-03-13</td><td>31.51</td><td>598.58</td></tr>",
                            "<tr><td>Argentina</td><td>Cactus Comidas para llevar</td><td>NULL</td><td>0.33</td><td>598.58</td></tr>",
                            "<tr><td>Argentina</td><td>Océano Atlántico Ltda.</td><td>2023-04-21</td><td>217.86</td><td>598.58</td></tr>",
                            "<tr><td>Argentina</td><td>Océano Atlántico Ltda.</td><td>2023-03-27</td><td>49.56</td><td>598.58</td></tr>",
                            "<tr><td>Argentina</td><td>Océano Atlántico Ltda.</td><td>2023-03-06</td><td>1.27</td><td>598.58</td></tr>",
                            "<tr><td>Argentina</td><td>Océano Atlántico Ltda.</td><td>2022-05-19</td><td>8.12</td><td>598.58</td></tr>",
                            "</table>"
                        ]
                    }
                }
            ],
            "execution_count": 6
        },
        {
            "cell_type": "code",
            "source": [
                "-- Ranking Functions\r\n",
                "SELECT TOP 10 ROW_NUMBER() OVER (ORDER BY ord.OrderID) as 'Row_Number'\r\n",
                "      ,ord.ShipCountry   \r\n",
                "      ,ord.ShipName\r\n",
                "\t  ,CAST(ord.ShippedDate as DATE) as 'ShippedDate'\r\n",
                "\t  ,ord.Freight\r\n",
                "\t  ,RANK() OVER (ORDER BY ord.Freight) as 'FreightRateRank'\r\n",
                "\t  ,DENSE_RANK() OVER (ORDER BY ord.Freight) as 'DenseFreightRateRank'\r\n",
                "\t  ,NTILE(4) OVER (ORDER BY ord.Freight) as 'Quartile'\r\n",
                "FROM dbo.Orders ord\r\n",
                "ORDER BY Row_Number\r\n",
                "; -- 830 rows"
            ],
            "metadata": {
                "azdata_cell_guid": "f8a87770-cbd1-454f-8436-4263bc11c504",
                "language": "sql"
            },
            "outputs": [
                {
                    "output_type": "display_data",
                    "data": {
                        "text/html": "(10 rows affected)"
                    },
                    "metadata": {}
                },
                {
                    "output_type": "display_data",
                    "data": {
                        "text/html": "Total execution time: 00:00:00.049"
                    },
                    "metadata": {}
                },
                {
                    "output_type": "execute_result",
                    "metadata": {},
                    "execution_count": 5,
                    "data": {
                        "application/vnd.dataresource+json": {
                            "schema": {
                                "fields": [
                                    {
                                        "name": "Row_Number"
                                    },
                                    {
                                        "name": "ShipCountry"
                                    },
                                    {
                                        "name": "ShipName"
                                    },
                                    {
                                        "name": "ShippedDate"
                                    },
                                    {
                                        "name": "Freight"
                                    },
                                    {
                                        "name": "FreightRateRank"
                                    },
                                    {
                                        "name": "DenseFreightRateRank"
                                    },
                                    {
                                        "name": "Quartile"
                                    }
                                ]
                            },
                            "data": [
                                {
                                    "Row_Number": "1",
                                    "ShipCountry": "France",
                                    "ShipName": "Vins et alcools Chevalier",
                                    "ShippedDate": "2021-07-16",
                                    "Freight": "32.38",
                                    "FreightRateRank": "371",
                                    "DenseFreightRateRank": "343",
                                    "Quartile": "2"
                                },
                                {
                                    "Row_Number": "2",
                                    "ShipCountry": "Germany",
                                    "ShipName": "Toms Spezialitäten",
                                    "ShippedDate": "2021-07-10",
                                    "Freight": "11.61",
                                    "FreightRateRank": "191",
                                    "DenseFreightRateRank": "173",
                                    "Quartile": "1"
                                },
                                {
                                    "Row_Number": "3",
                                    "ShipCountry": "Brazil",
                                    "ShipName": "Hanari Carnes",
                                    "ShippedDate": "2021-07-12",
                                    "Freight": "65.83",
                                    "FreightRateRank": "543",
                                    "DenseFreightRateRank": "512",
                                    "Quartile": "3"
                                },
                                {
                                    "Row_Number": "4",
                                    "ShipCountry": "France",
                                    "ShipName": "Victuailles en stock",
                                    "ShippedDate": "2021-07-15",
                                    "Freight": "41.34",
                                    "FreightRateRank": "415",
                                    "DenseFreightRateRank": "386",
                                    "Quartile": "2"
                                },
                                {
                                    "Row_Number": "5",
                                    "ShipCountry": "Belgium",
                                    "ShipName": "Suprêmes délices",
                                    "ShippedDate": "2021-07-11",
                                    "Freight": "51.30",
                                    "FreightRateRank": "472",
                                    "DenseFreightRateRank": "442",
                                    "Quartile": "3"
                                },
                                {
                                    "Row_Number": "6",
                                    "ShipCountry": "Brazil",
                                    "ShipName": "Hanari Carnes",
                                    "ShippedDate": "2021-07-16",
                                    "Freight": "58.17",
                                    "FreightRateRank": "500",
                                    "DenseFreightRateRank": "469",
                                    "Quartile": "3"
                                },
                                {
                                    "Row_Number": "7",
                                    "ShipCountry": "Switzerland",
                                    "ShipName": "Chop-suey Chinese",
                                    "ShippedDate": "2021-07-23",
                                    "Freight": "22.98",
                                    "FreightRateRank": "290",
                                    "DenseFreightRateRank": "267",
                                    "Quartile": "2"
                                },
                                {
                                    "Row_Number": "8",
                                    "ShipCountry": "Switzerland",
                                    "ShipName": "Richter Supermarkt",
                                    "ShippedDate": "2021-07-15",
                                    "Freight": "148.33",
                                    "FreightRateRank": "710",
                                    "DenseFreightRateRank": "679",
                                    "Quartile": "4"
                                },
                                {
                                    "Row_Number": "9",
                                    "ShipCountry": "Brazil",
                                    "ShipName": "Wellington Importadora",
                                    "ShippedDate": "2021-07-17",
                                    "Freight": "13.97",
                                    "FreightRateRank": "218",
                                    "DenseFreightRateRank": "199",
                                    "Quartile": "2"
                                },
                                {
                                    "Row_Number": "10",
                                    "ShipCountry": "Venezuela",
                                    "ShipName": "HILARION-Abastos",
                                    "ShippedDate": "2021-07-22",
                                    "Freight": "81.91",
                                    "FreightRateRank": "600",
                                    "DenseFreightRateRank": "569",
                                    "Quartile": "3"
                                }
                            ]
                        },
                        "text/html": [
                            "<table>",
                            "<tr><th>Row_Number</th><th>ShipCountry</th><th>ShipName</th><th>ShippedDate</th><th>Freight</th><th>FreightRateRank</th><th>DenseFreightRateRank</th><th>Quartile</th></tr>",
                            "<tr><td>1</td><td>France</td><td>Vins et alcools Chevalier</td><td>2021-07-16</td><td>32.38</td><td>371</td><td>343</td><td>2</td></tr>",
                            "<tr><td>2</td><td>Germany</td><td>Toms Spezialitäten</td><td>2021-07-10</td><td>11.61</td><td>191</td><td>173</td><td>1</td></tr>",
                            "<tr><td>3</td><td>Brazil</td><td>Hanari Carnes</td><td>2021-07-12</td><td>65.83</td><td>543</td><td>512</td><td>3</td></tr>",
                            "<tr><td>4</td><td>France</td><td>Victuailles en stock</td><td>2021-07-15</td><td>41.34</td><td>415</td><td>386</td><td>2</td></tr>",
                            "<tr><td>5</td><td>Belgium</td><td>Suprêmes délices</td><td>2021-07-11</td><td>51.30</td><td>472</td><td>442</td><td>3</td></tr>",
                            "<tr><td>6</td><td>Brazil</td><td>Hanari Carnes</td><td>2021-07-16</td><td>58.17</td><td>500</td><td>469</td><td>3</td></tr>",
                            "<tr><td>7</td><td>Switzerland</td><td>Chop-suey Chinese</td><td>2021-07-23</td><td>22.98</td><td>290</td><td>267</td><td>2</td></tr>",
                            "<tr><td>8</td><td>Switzerland</td><td>Richter Supermarkt</td><td>2021-07-15</td><td>148.33</td><td>710</td><td>679</td><td>4</td></tr>",
                            "<tr><td>9</td><td>Brazil</td><td>Wellington Importadora</td><td>2021-07-17</td><td>13.97</td><td>218</td><td>199</td><td>2</td></tr>",
                            "<tr><td>10</td><td>Venezuela</td><td>HILARION-Abastos</td><td>2021-07-22</td><td>81.91</td><td>600</td><td>569</td><td>3</td></tr>",
                            "</table>"
                        ]
                    }
                }
            ],
            "execution_count": 5
        }
    ]
}