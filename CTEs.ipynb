{
    "metadata": {
        "kernelspec": {
            "name": "SQL",
            "display_name": "SQL",
            "language": "sql"
        },
        "language_info": {
            "name": "sql",
            "version": ""
        }
    },
    "nbformat_minor": 2,
    "nbformat": 4,
    "cells": [
        {
            "cell_type": "markdown",
            "source": [
                "# CTEs\n",
                "\n",
                "A Common Table Expression (CTE) is a great tool for processing an iterative function against data, then reading from the result set for any integration."
            ],
            "metadata": {
                "azdata_cell_guid": "9a73da82-2808-420b-be7e-faa7d0968263"
            },
            "attachments": {}
        },
        {
            "cell_type": "code",
            "source": [
                "-- Here is the query as a subquery:\r\n",
                "\r\n",
                "GO\r\n",
                "\r\n",
                "SELECT cat.ProductCategory\r\n",
                "      ,count(*) as 'ProductCount'\r\n",
                "FROM (SELECT (CASE\r\n",
                "\t     WHEN [UnitPrice] < 13.25 THEN 'low'\r\n",
                "\t\t WHEN [UnitPrice] <= 33.25 THEN 'med'\r\n",
                "\t\t WHEN [UnitPrice] < 63.25 THEN 'high'\r\n",
                "\t\t ELSE 'uol'\r\n",
                "\t   END) as 'ProductCategory'\r\n",
                "      FROM [dbo].[Products]) as cat\r\n",
                "GROUP BY cat.ProductCategory\r\n",
                ";\r\n",
                "GO"
            ],
            "metadata": {
                "azdata_cell_guid": "ce48e2c7-047e-443f-a3a8-8c8653233444",
                "language": "sql"
            },
            "outputs": [
                {
                    "output_type": "display_data",
                    "data": {
                        "text/html": "Commands completed successfully."
                    },
                    "metadata": {}
                },
                {
                    "output_type": "display_data",
                    "data": {
                        "text/html": "(4 rows affected)"
                    },
                    "metadata": {}
                },
                {
                    "output_type": "display_data",
                    "data": {
                        "text/html": "Total execution time: 00:00:00.007"
                    },
                    "metadata": {}
                },
                {
                    "output_type": "execute_result",
                    "metadata": {},
                    "execution_count": 5,
                    "data": {
                        "application/vnd.dataresource+json": {
                            "schema": {
                                "fields": [
                                    {
                                        "name": "ProductCategory"
                                    },
                                    {
                                        "name": "ProductCount"
                                    }
                                ]
                            },
                            "data": [
                                {
                                    "ProductCategory": "high",
                                    "ProductCount": "15"
                                },
                                {
                                    "ProductCategory": "low",
                                    "ProductCount": "19"
                                },
                                {
                                    "ProductCategory": "med",
                                    "ProductCount": "39"
                                },
                                {
                                    "ProductCategory": "uol",
                                    "ProductCount": "4"
                                }
                            ]
                        },
                        "text/html": [
                            "<table>",
                            "<tr><th>ProductCategory</th><th>ProductCount</th></tr>",
                            "<tr><td>high</td><td>15</td></tr>",
                            "<tr><td>low</td><td>19</td></tr>",
                            "<tr><td>med</td><td>39</td></tr>",
                            "<tr><td>uol</td><td>4</td></tr>",
                            "</table>"
                        ]
                    }
                }
            ],
            "execution_count": 5
        },
        {
            "cell_type": "code",
            "source": [
                "-- The same result set, but as a CTE\r\n",
                "\r\n",
                "USE Northwind_2023;\r\n",
                "GO\r\n",
                "\r\n",
                "WITH Cat_CTE as\r\n",
                "(\r\n",
                "  SELECT (CASE\r\n",
                "\t      WHEN [UnitPrice] < 13.25 THEN 'low'\r\n",
                "\t\t  WHEN [UnitPrice] <= 33.25 THEN 'med'\r\n",
                "\t\t  WHEN [UnitPrice] < 63.25 THEN 'high'\r\n",
                "\t\t   ELSE 'uol'\r\n",
                "\t      END) as 'ProductCategory'\r\n",
                "  FROM [dbo].[Products]\r\n",
                ")\r\n",
                "\r\n",
                "SELECT Cat_CTE.ProductCategory \r\n",
                "      ,count(*) as 'ProductCount'\r\n",
                "FROM Cat_CTE\r\n",
                "GROUP BY Cat_CTE.ProductCategory \r\n",
                ";\r\n",
                "GO"
            ],
            "metadata": {
                "azdata_cell_guid": "fbcf7362-1f43-4016-bbad-4ffd15f1ccaa",
                "language": "sql"
            },
            "outputs": [
                {
                    "output_type": "display_data",
                    "data": {
                        "text/html": "Commands completed successfully."
                    },
                    "metadata": {}
                },
                {
                    "output_type": "display_data",
                    "data": {
                        "text/html": "(4 rows affected)"
                    },
                    "metadata": {}
                },
                {
                    "output_type": "display_data",
                    "data": {
                        "text/html": "Total execution time: 00:00:00.006"
                    },
                    "metadata": {}
                },
                {
                    "output_type": "execute_result",
                    "metadata": {},
                    "execution_count": 7,
                    "data": {
                        "application/vnd.dataresource+json": {
                            "schema": {
                                "fields": [
                                    {
                                        "name": "ProductCategory"
                                    },
                                    {
                                        "name": "ProductCount"
                                    }
                                ]
                            },
                            "data": [
                                {
                                    "ProductCategory": "high",
                                    "ProductCount": "15"
                                },
                                {
                                    "ProductCategory": "low",
                                    "ProductCount": "19"
                                },
                                {
                                    "ProductCategory": "med",
                                    "ProductCount": "39"
                                },
                                {
                                    "ProductCategory": "uol",
                                    "ProductCount": "4"
                                }
                            ]
                        },
                        "text/html": [
                            "<table>",
                            "<tr><th>ProductCategory</th><th>ProductCount</th></tr>",
                            "<tr><td>high</td><td>15</td></tr>",
                            "<tr><td>low</td><td>19</td></tr>",
                            "<tr><td>med</td><td>39</td></tr>",
                            "<tr><td>uol</td><td>4</td></tr>",
                            "</table>"
                        ]
                    }
                }
            ],
            "execution_count": 7
        },
        {
            "cell_type": "code",
            "source": [
                "-- Another example generated by Bing Chat\r\n",
                "USE Northwind_2023;\r\n",
                "GO\r\n",
                "\r\n",
                "WITH Ord_CTE AS\r\n",
                "(\r\n",
                "    SELECT \r\n",
                "        c.CustomerID, \r\n",
                "        c.CompanyName, \r\n",
                "        COUNT(o.OrderID) AS TotalOrders\r\n",
                "    FROM Customers c\r\n",
                "\t\tINNER JOIN Orders o \r\n",
                "\t\tON c.CustomerID = o.CustomerID\r\n",
                "    GROUP BY \r\n",
                "        c.CustomerID, c.CompanyName\r\n",
                ")\r\n",
                "SELECT TOP 4 WITH TIES * FROM Ord_CTE\r\n",
                "ORDER BY TotalOrders DESC;\r\n",
                "\r\n",
                "GO"
            ],
            "metadata": {
                "azdata_cell_guid": "b70165e9-6c8c-415a-bd6b-173615f7f46d",
                "language": "sql"
            },
            "outputs": [
                {
                    "output_type": "display_data",
                    "data": {
                        "text/html": "Commands completed successfully."
                    },
                    "metadata": {}
                },
                {
                    "output_type": "display_data",
                    "data": {
                        "text/html": "(5 rows affected)"
                    },
                    "metadata": {}
                },
                {
                    "output_type": "display_data",
                    "data": {
                        "text/html": "Total execution time: 00:00:00.013"
                    },
                    "metadata": {}
                },
                {
                    "output_type": "execute_result",
                    "metadata": {},
                    "execution_count": 8,
                    "data": {
                        "application/vnd.dataresource+json": {
                            "schema": {
                                "fields": [
                                    {
                                        "name": "CustomerID"
                                    },
                                    {
                                        "name": "CompanyName"
                                    },
                                    {
                                        "name": "TotalOrders"
                                    }
                                ]
                            },
                            "data": [
                                {
                                    "CustomerID": "SAVEA",
                                    "CompanyName": "Save-a-lot Markets",
                                    "TotalOrders": "31"
                                },
                                {
                                    "CustomerID": "ERNSH",
                                    "CompanyName": "Ernst Handel",
                                    "TotalOrders": "30"
                                },
                                {
                                    "CustomerID": "QUICK",
                                    "CompanyName": "QUICK-Stop",
                                    "TotalOrders": "28"
                                },
                                {
                                    "CustomerID": "FOLKO",
                                    "CompanyName": "Folk och fä HB",
                                    "TotalOrders": "19"
                                },
                                {
                                    "CustomerID": "HUNGO",
                                    "CompanyName": "Hungry Owl All-Night Grocers",
                                    "TotalOrders": "19"
                                }
                            ]
                        },
                        "text/html": [
                            "<table>",
                            "<tr><th>CustomerID</th><th>CompanyName</th><th>TotalOrders</th></tr>",
                            "<tr><td>SAVEA</td><td>Save-a-lot Markets</td><td>31</td></tr>",
                            "<tr><td>ERNSH</td><td>Ernst Handel</td><td>30</td></tr>",
                            "<tr><td>QUICK</td><td>QUICK-Stop</td><td>28</td></tr>",
                            "<tr><td>FOLKO</td><td>Folk och fä HB</td><td>19</td></tr>",
                            "<tr><td>HUNGO</td><td>Hungry Owl All-Night Grocers</td><td>19</td></tr>",
                            "</table>"
                        ]
                    }
                }
            ],
            "execution_count": 8
        }
    ]
}