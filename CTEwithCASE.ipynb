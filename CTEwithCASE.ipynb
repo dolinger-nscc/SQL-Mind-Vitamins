{
    "metadata": {
        "kernelspec": {
            "name": "SQL",
            "display_name": "SQL",
            "language": "sql"
        },
        "language_info": {
            "name": "sql",
            "version": ""
        }
    },
    "nbformat_minor": 2,
    "nbformat": 4,
    "cells": [
        {
            "cell_type": "markdown",
            "source": [
                "# CTE with CASE creating a new category field\n",
                "\n",
                "This query will demonstrate using a CASE statement within a CTE creating a category for the freight charges in the dataset."
            ],
            "metadata": {
                "azdata_cell_guid": "b011f989-af18-4e79-ad1d-813145e2a127"
            },
            "attachments": {}
        },
        {
            "cell_type": "code",
            "source": [
                "USE Northwind_2023;\r\n",
                "GO\r\n",
                "\r\n",
                "WITH freight_CTE as\r\n",
                "(\r\n",
                "SELECT ord.ShipVia\r\n",
                "      ,ord.ShipName\r\n",
                "\t  ,ord.ShipCountry\r\n",
                "\t  ,ord.Freight\r\n",
                "\t  ,(CASE\r\n",
                "\t      WHEN ord.Freight < 25 THEN 'Low'\r\n",
                "\t\t  WHEN ord.Freight < 50 THEN 'Med'\r\n",
                "\t\t  WHEN ord.Freight < 75 THEN 'High'\r\n",
                "\t\tELSE 'Bulk'\r\n",
                "\t    END) as 'FreightCat'\r\n",
                "FROM dbo.Orders ord\r\n",
                ")\r\n",
                "SELECT TOP 5 f.*\r\n",
                "FROM freight_CTE f\r\n",
                "; -- TOP 5 used to return a subset of records for testing"
            ],
            "metadata": {
                "azdata_cell_guid": "c86ba5e8-0a39-4b31-b601-9958a59b4c89",
                "language": "sql"
            },
            "outputs": [
                {
                    "output_type": "display_data",
                    "data": {
                        "text/html": "Commands completed successfully."
                    },
                    "metadata": {}
                },
                {
                    "output_type": "display_data",
                    "data": {
                        "text/html": "(5 rows affected)"
                    },
                    "metadata": {}
                },
                {
                    "output_type": "display_data",
                    "data": {
                        "text/html": "Total execution time: 00:00:00.011"
                    },
                    "metadata": {}
                },
                {
                    "output_type": "execute_result",
                    "metadata": {},
                    "execution_count": 3,
                    "data": {
                        "application/vnd.dataresource+json": {
                            "schema": {
                                "fields": [
                                    {
                                        "name": "ShipVia"
                                    },
                                    {
                                        "name": "ShipName"
                                    },
                                    {
                                        "name": "ShipCountry"
                                    },
                                    {
                                        "name": "Freight"
                                    },
                                    {
                                        "name": "FreightCat"
                                    }
                                ]
                            },
                            "data": [
                                {
                                    "ShipVia": "3",
                                    "ShipName": "Vins et alcools Chevalier",
                                    "ShipCountry": "France",
                                    "Freight": "32.38",
                                    "FreightCat": "Med"
                                },
                                {
                                    "ShipVia": "1",
                                    "ShipName": "Toms Spezialitäten",
                                    "ShipCountry": "Germany",
                                    "Freight": "11.61",
                                    "FreightCat": "Low"
                                },
                                {
                                    "ShipVia": "2",
                                    "ShipName": "Hanari Carnes",
                                    "ShipCountry": "Brazil",
                                    "Freight": "65.83",
                                    "FreightCat": "High"
                                },
                                {
                                    "ShipVia": "1",
                                    "ShipName": "Victuailles en stock",
                                    "ShipCountry": "France",
                                    "Freight": "41.34",
                                    "FreightCat": "Med"
                                },
                                {
                                    "ShipVia": "2",
                                    "ShipName": "Suprêmes délices",
                                    "ShipCountry": "Belgium",
                                    "Freight": "51.30",
                                    "FreightCat": "High"
                                }
                            ]
                        },
                        "text/html": [
                            "<table>",
                            "<tr><th>ShipVia</th><th>ShipName</th><th>ShipCountry</th><th>Freight</th><th>FreightCat</th></tr>",
                            "<tr><td>3</td><td>Vins et alcools Chevalier</td><td>France</td><td>32.38</td><td>Med</td></tr>",
                            "<tr><td>1</td><td>Toms Spezialitäten</td><td>Germany</td><td>11.61</td><td>Low</td></tr>",
                            "<tr><td>2</td><td>Hanari Carnes</td><td>Brazil</td><td>65.83</td><td>High</td></tr>",
                            "<tr><td>1</td><td>Victuailles en stock</td><td>France</td><td>41.34</td><td>Med</td></tr>",
                            "<tr><td>2</td><td>Suprêmes délices</td><td>Belgium</td><td>51.30</td><td>High</td></tr>",
                            "</table>"
                        ]
                    }
                }
            ],
            "execution_count": 3
        },
        {
            "cell_type": "markdown",
            "source": [
                "The query now extended with aggregation to show the Shipping Count as well as the Average Freight within each category."
            ],
            "metadata": {
                "language": "sql",
                "azdata_cell_guid": "1604348a-0754-4986-a2e3-2cefac972be4"
            },
            "attachments": {}
        },
        {
            "cell_type": "code",
            "source": [
                "USE Northwind_2023;\r\n",
                "GO\r\n",
                "\r\n",
                "WITH freight_CTE as\r\n",
                "(\r\n",
                "SELECT ord.ShipVia\r\n",
                "      ,ord.ShipName\r\n",
                "\t  ,ord.ShipCountry\r\n",
                "\t  ,ord.Freight\r\n",
                "\t  ,(CASE\r\n",
                "\t      WHEN ord.Freight < 25 THEN 'Low'\r\n",
                "\t\t  WHEN ord.Freight < 50 THEN 'Med'\r\n",
                "\t\t  WHEN ord.Freight < 75 THEN 'High'\r\n",
                "\t\tELSE 'Bulk'\r\n",
                "\t    END) as 'FreightCat'\r\n",
                "FROM dbo.Orders ord\r\n",
                ")\r\n",
                "SELECT f.FreightCat\r\n",
                "      ,count(*) as 'ShipCnt'\r\n",
                "\t  ,avg(f.Freight) as 'AvgFreight'\r\n",
                "FROM freight_CTE f\r\n",
                "GROUP BY f.FreightCat\r\n",
                "ORDER BY 3 ASC\r\n",
                ";"
            ],
            "metadata": {
                "language": "sql",
                "azdata_cell_guid": "6002d225-b7eb-40d0-84c7-a6c2445f9bb4"
            },
            "outputs": [
                {
                    "output_type": "display_data",
                    "data": {
                        "text/html": "Commands completed successfully."
                    },
                    "metadata": {}
                },
                {
                    "output_type": "display_data",
                    "data": {
                        "text/html": "(4 rows affected)"
                    },
                    "metadata": {}
                },
                {
                    "output_type": "display_data",
                    "data": {
                        "text/html": "Total execution time: 00:00:00.009"
                    },
                    "metadata": {}
                },
                {
                    "output_type": "execute_result",
                    "metadata": {},
                    "execution_count": 4,
                    "data": {
                        "application/vnd.dataresource+json": {
                            "schema": {
                                "fields": [
                                    {
                                        "name": "FreightCat"
                                    },
                                    {
                                        "name": "ShipCnt"
                                    },
                                    {
                                        "name": "AvgFreight"
                                    }
                                ]
                            },
                            "data": [
                                {
                                    "FreightCat": "Low",
                                    "ShipCnt": "308",
                                    "AvgFreight": "9.7132"
                                },
                                {
                                    "FreightCat": "Med",
                                    "ShipCnt": "162",
                                    "AvgFreight": "36.5903"
                                },
                                {
                                    "FreightCat": "High",
                                    "ShipCnt": "107",
                                    "AvgFreight": "62.7197"
                                },
                                {
                                    "FreightCat": "Bulk",
                                    "ShipCnt": "253",
                                    "AvgFreight": "194.9105"
                                }
                            ]
                        },
                        "text/html": [
                            "<table>",
                            "<tr><th>FreightCat</th><th>ShipCnt</th><th>AvgFreight</th></tr>",
                            "<tr><td>Low</td><td>308</td><td>9.7132</td></tr>",
                            "<tr><td>Med</td><td>162</td><td>36.5903</td></tr>",
                            "<tr><td>High</td><td>107</td><td>62.7197</td></tr>",
                            "<tr><td>Bulk</td><td>253</td><td>194.9105</td></tr>",
                            "</table>"
                        ]
                    }
                }
            ],
            "execution_count": 4
        }
    ]
}