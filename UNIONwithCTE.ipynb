{
    "metadata": {
        "kernelspec": {
            "name": "SQL",
            "display_name": "SQL",
            "language": "sql"
        },
        "language_info": {
            "name": "sql",
            "version": ""
        }
    },
    "nbformat_minor": 2,
    "nbformat": 4,
    "cells": [
        {
            "cell_type": "markdown",
            "source": [
                "# UNION and UNION ALL\n",
                "\n",
                "The query below demonstrates mulitple unions with four data sets to be appended together. \n",
                "\n",
                "_**Note**_ Remember the first query in a UNION statement is what determines the final field names. For the base query you can remove or alter some of the subsquestion queries."
            ],
            "metadata": {
                "azdata_cell_guid": "3bfb77be-e9b5-4bfe-8da0-3ff8d7b8cf95"
            },
            "attachments": {}
        },
        {
            "cell_type": "code",
            "source": [
                "SELECT ProductID as 'ProdId'\r\n",
                "\t\t  ,ProductName as 'Product'\r\n",
                "\t\t  ,-99 as 'Supplier'\r\n",
                "\tFROM dbo.Products \r\n",
                "\tWHERE ProductID <= 5\r\n",
                "\r\n",
                "\tUNION ALL\r\n",
                "\r\n",
                "\tSELECT ProductID as 'ProdId'\r\n",
                "\t\t  ,ProductName as 'Product'\r\n",
                "\t\t  ,-99 as 'Supplier'\r\n",
                "\tFROM dbo.Products \r\n",
                "\tWHERE ProductID <= 7\r\n",
                "\r\n",
                "\r\n",
                "\tUNION ALL\r\n",
                "\r\n",
                "\tSELECT ProductID as 'IgnoredID'\r\n",
                "\t\t  ,ProductName as 'IngoredName'\r\n",
                "\t\t  ,SupplierID\r\n",
                "\tFROM dbo.Products\r\n",
                "\tWHERE ProductID BETWEEN 4 and 12"
            ],
            "metadata": {
                "azdata_cell_guid": "70aa9915-f136-4f2e-8480-f365f45d3212",
                "language": "sql"
            },
            "outputs": [
                {
                    "output_type": "display_data",
                    "data": {
                        "text/html": "(21 rows affected)"
                    },
                    "metadata": {}
                },
                {
                    "output_type": "display_data",
                    "data": {
                        "text/html": "Total execution time: 00:00:00.010"
                    },
                    "metadata": {}
                },
                {
                    "output_type": "execute_result",
                    "metadata": {},
                    "execution_count": 1,
                    "data": {
                        "application/vnd.dataresource+json": {
                            "schema": {
                                "fields": [
                                    {
                                        "name": "ProdId"
                                    },
                                    {
                                        "name": "Product"
                                    },
                                    {
                                        "name": "Supplier"
                                    }
                                ]
                            },
                            "data": [
                                {
                                    "ProdId": "1",
                                    "Product": "Chais ",
                                    "Supplier": "-99"
                                },
                                {
                                    "ProdId": "2",
                                    "Product": "Chang ",
                                    "Supplier": "-99"
                                },
                                {
                                    "ProdId": "3",
                                    "Product": "Aniseed Syrup ",
                                    "Supplier": "-99"
                                },
                                {
                                    "ProdId": "4",
                                    "Product": "Chef Anton's Cajun Seasoning ",
                                    "Supplier": "-99"
                                },
                                {
                                    "ProdId": "5",
                                    "Product": "Chef Anton's Gumbo Mix ",
                                    "Supplier": "-99"
                                },
                                {
                                    "ProdId": "1",
                                    "Product": "Chais ",
                                    "Supplier": "-99"
                                },
                                {
                                    "ProdId": "2",
                                    "Product": "Chang ",
                                    "Supplier": "-99"
                                },
                                {
                                    "ProdId": "3",
                                    "Product": "Aniseed Syrup ",
                                    "Supplier": "-99"
                                },
                                {
                                    "ProdId": "4",
                                    "Product": "Chef Anton's Cajun Seasoning ",
                                    "Supplier": "-99"
                                },
                                {
                                    "ProdId": "5",
                                    "Product": "Chef Anton's Gumbo Mix ",
                                    "Supplier": "-99"
                                },
                                {
                                    "ProdId": "6",
                                    "Product": "Grandma's Boysenberry Spread ",
                                    "Supplier": "-99"
                                },
                                {
                                    "ProdId": "7",
                                    "Product": "Uncle Bob's Organic Dried Pears ",
                                    "Supplier": "-99"
                                },
                                {
                                    "ProdId": "4",
                                    "Product": "Chef Anton's Cajun Seasoning ",
                                    "Supplier": "2"
                                },
                                {
                                    "ProdId": "5",
                                    "Product": "Chef Anton's Gumbo Mix ",
                                    "Supplier": "2"
                                },
                                {
                                    "ProdId": "6",
                                    "Product": "Grandma's Boysenberry Spread ",
                                    "Supplier": "3"
                                },
                                {
                                    "ProdId": "7",
                                    "Product": "Uncle Bob's Organic Dried Pears ",
                                    "Supplier": "3"
                                },
                                {
                                    "ProdId": "8",
                                    "Product": "Northwoods Cranberry Sauce ",
                                    "Supplier": "3"
                                },
                                {
                                    "ProdId": "9",
                                    "Product": "Mishi Kobe Niku ",
                                    "Supplier": "4"
                                },
                                {
                                    "ProdId": "10",
                                    "Product": "Ikura ",
                                    "Supplier": "4"
                                },
                                {
                                    "ProdId": "11",
                                    "Product": "Queso Cabrales ",
                                    "Supplier": "5"
                                },
                                {
                                    "ProdId": "12",
                                    "Product": "Queso Manchego La Pastora ",
                                    "Supplier": "5"
                                }
                            ]
                        },
                        "text/html": [
                            "<table>",
                            "<tr><th>ProdId</th><th>Product</th><th>Supplier</th></tr>",
                            "<tr><td>1</td><td>Chais </td><td>-99</td></tr>",
                            "<tr><td>2</td><td>Chang </td><td>-99</td></tr>",
                            "<tr><td>3</td><td>Aniseed Syrup </td><td>-99</td></tr>",
                            "<tr><td>4</td><td>Chef Anton&#39;s Cajun Seasoning </td><td>-99</td></tr>",
                            "<tr><td>5</td><td>Chef Anton&#39;s Gumbo Mix </td><td>-99</td></tr>",
                            "<tr><td>1</td><td>Chais </td><td>-99</td></tr>",
                            "<tr><td>2</td><td>Chang </td><td>-99</td></tr>",
                            "<tr><td>3</td><td>Aniseed Syrup </td><td>-99</td></tr>",
                            "<tr><td>4</td><td>Chef Anton&#39;s Cajun Seasoning </td><td>-99</td></tr>",
                            "<tr><td>5</td><td>Chef Anton&#39;s Gumbo Mix </td><td>-99</td></tr>",
                            "<tr><td>6</td><td>Grandma&#39;s Boysenberry Spread </td><td>-99</td></tr>",
                            "<tr><td>7</td><td>Uncle Bob&#39;s Organic Dried Pears </td><td>-99</td></tr>",
                            "<tr><td>4</td><td>Chef Anton&#39;s Cajun Seasoning </td><td>2</td></tr>",
                            "<tr><td>5</td><td>Chef Anton&#39;s Gumbo Mix </td><td>2</td></tr>",
                            "<tr><td>6</td><td>Grandma&#39;s Boysenberry Spread </td><td>3</td></tr>",
                            "<tr><td>7</td><td>Uncle Bob&#39;s Organic Dried Pears </td><td>3</td></tr>",
                            "<tr><td>8</td><td>Northwoods Cranberry Sauce </td><td>3</td></tr>",
                            "<tr><td>9</td><td>Mishi Kobe Niku </td><td>4</td></tr>",
                            "<tr><td>10</td><td>Ikura </td><td>4</td></tr>",
                            "<tr><td>11</td><td>Queso Cabrales </td><td>5</td></tr>",
                            "<tr><td>12</td><td>Queso Manchego La Pastora </td><td>5</td></tr>",
                            "</table>"
                        ]
                    }
                }
            ],
            "execution_count": 1
        },
        {
            "cell_type": "markdown",
            "source": [
                "## Complex Query\n",
                "\n",
                "### ... based on the previous query\n",
                "\n",
                "The query is deemed complex as you have to return aggregates from your CASE statement. This is because you are having to use a MAX() from your groups (ID and Product in this case) as you need to pick the greatest value if more than one exists for each ID and Product pair."
            ],
            "metadata": {
                "language": "sql",
                "azdata_cell_guid": "583982d3-713b-4e0e-9047-bc7bbb205f14"
            },
            "attachments": {}
        },
        {
            "cell_type": "code",
            "source": [
                "USE Northwind_2023;\r\n",
                "GO\r\n",
                "\r\n",
                "WITH prod_cte AS\r\n",
                "(\r\n",
                "\tSELECT ProductID as 'ProdId'\r\n",
                "\t\t  ,ProductName as 'Product'\r\n",
                "\t\t  ,-99 as 'Supplier'\r\n",
                "\tFROM dbo.Products \r\n",
                "\tWHERE ProductID <= 5\r\n",
                "\r\n",
                "\tUNION ALL\r\n",
                "\r\n",
                "\tSELECT ProductID as 'ProdId'\r\n",
                "\t\t  ,ProductName as 'Product'\r\n",
                "\t\t  ,-99 as 'Supplier'\r\n",
                "\tFROM dbo.Products \r\n",
                "\tWHERE ProductID <= 7\r\n",
                "\r\n",
                "\r\n",
                "\tUNION ALL\r\n",
                "\r\n",
                "\tSELECT ProductID as 'IgnoredID'\r\n",
                "\t\t  ,ProductName as 'IngoredName'\r\n",
                "\t\t  ,SupplierID\r\n",
                "\tFROM dbo.Products\r\n",
                "\tWHERE ProductID BETWEEN 4 and 12\r\n",
                "\r\n",
                ") -- CASE & Aggregate\r\n",
                "SELECT p.ProdID\r\n",
                "     , p.Product\r\n",
                "--\t , count(*) as 'SupplierCnt'\r\n",
                "\t ,CASE \r\n",
                "\t     WHEN count(*) > 1 THEN MAX(p.Supplier)\r\n",
                "\t  ELSE MAX(p.Supplier)\r\n",
                "\t  END as 'SupplierID'\r\n",
                "FROM prod_cte as p\r\n",
                "GROUP BY p.ProdID, p.Product\r\n",
                "ORDER BY p.ProdId\r\n",
                ";"
            ],
            "metadata": {
                "language": "sql",
                "azdata_cell_guid": "c3fd630d-2db8-406c-b5d0-5e44d2a78312"
            },
            "outputs": [
                {
                    "output_type": "display_data",
                    "data": {
                        "text/html": "Commands completed successfully."
                    },
                    "metadata": {}
                },
                {
                    "output_type": "display_data",
                    "data": {
                        "text/html": "(12 rows affected)"
                    },
                    "metadata": {}
                },
                {
                    "output_type": "display_data",
                    "data": {
                        "text/html": "Total execution time: 00:00:00.009"
                    },
                    "metadata": {}
                },
                {
                    "output_type": "execute_result",
                    "metadata": {},
                    "execution_count": 2,
                    "data": {
                        "application/vnd.dataresource+json": {
                            "schema": {
                                "fields": [
                                    {
                                        "name": "ProdID"
                                    },
                                    {
                                        "name": "Product"
                                    },
                                    {
                                        "name": "SupplierID"
                                    }
                                ]
                            },
                            "data": [
                                {
                                    "ProdID": "1",
                                    "Product": "Chai",
                                    "SupplierID": "-99"
                                },
                                {
                                    "ProdID": "2",
                                    "Product": "Chang",
                                    "SupplierID": "-99"
                                },
                                {
                                    "ProdID": "3",
                                    "Product": "Aniseed Syrup",
                                    "SupplierID": "-99"
                                },
                                {
                                    "ProdID": "4",
                                    "Product": "Chef Anton's Cajun Seasoning",
                                    "SupplierID": "2"
                                },
                                {
                                    "ProdID": "5",
                                    "Product": "Chef Anton's Gumbo Mix",
                                    "SupplierID": "2"
                                },
                                {
                                    "ProdID": "6",
                                    "Product": "Grandma's Boysenberry Spread",
                                    "SupplierID": "3"
                                },
                                {
                                    "ProdID": "7",
                                    "Product": "Uncle Bob's Organic Dried Pears",
                                    "SupplierID": "3"
                                },
                                {
                                    "ProdID": "8",
                                    "Product": "Northwoods Cranberry Sauce",
                                    "SupplierID": "3"
                                },
                                {
                                    "ProdID": "9",
                                    "Product": "Mishi Kobe Niku",
                                    "SupplierID": "4"
                                },
                                {
                                    "ProdID": "10",
                                    "Product": "Ikura",
                                    "SupplierID": "4"
                                },
                                {
                                    "ProdID": "11",
                                    "Product": "Queso Cabrales",
                                    "SupplierID": "5"
                                },
                                {
                                    "ProdID": "12",
                                    "Product": "Queso Manchego La Pastora",
                                    "SupplierID": "5"
                                }
                            ]
                        },
                        "text/html": [
                            "<table>",
                            "<tr><th>ProdID</th><th>Product</th><th>SupplierID</th></tr>",
                            "<tr><td>1</td><td>Chai</td><td>-99</td></tr>",
                            "<tr><td>2</td><td>Chang</td><td>-99</td></tr>",
                            "<tr><td>3</td><td>Aniseed Syrup</td><td>-99</td></tr>",
                            "<tr><td>4</td><td>Chef Anton&#39;s Cajun Seasoning</td><td>2</td></tr>",
                            "<tr><td>5</td><td>Chef Anton&#39;s Gumbo Mix</td><td>2</td></tr>",
                            "<tr><td>6</td><td>Grandma&#39;s Boysenberry Spread</td><td>3</td></tr>",
                            "<tr><td>7</td><td>Uncle Bob&#39;s Organic Dried Pears</td><td>3</td></tr>",
                            "<tr><td>8</td><td>Northwoods Cranberry Sauce</td><td>3</td></tr>",
                            "<tr><td>9</td><td>Mishi Kobe Niku</td><td>4</td></tr>",
                            "<tr><td>10</td><td>Ikura</td><td>4</td></tr>",
                            "<tr><td>11</td><td>Queso Cabrales</td><td>5</td></tr>",
                            "<tr><td>12</td><td>Queso Manchego La Pastora</td><td>5</td></tr>",
                            "</table>"
                        ]
                    }
                }
            ],
            "execution_count": 2
        }
    ]
}