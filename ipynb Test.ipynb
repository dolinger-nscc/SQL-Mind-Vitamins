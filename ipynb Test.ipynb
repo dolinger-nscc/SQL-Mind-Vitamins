{
 "cells": [
  {
   "cell_type": "markdown",
   "id": "6d808f33",
   "metadata": {},
   "source": [
    "# This is my Header 1 title\n",
    "## This is my Header 2 title\n",
    "### This is my Header 3 title  \n",
    "--- \n",
    "#### This is my Header 4 title\n",
    "This is normal text  \n",
    "*this is italics*  \n",
    "**this is bold**  \n",
    "***I am bold italics***  \n",
    "- unordered list\n",
    "- unorder list item 2\n",
    "\n",
    "1) I am number 1\n",
    "2) I am number 2"
   ]
  },
  {
   "cell_type": "code",
   "execution_count": 1,
   "id": "90815e0a",
   "metadata": {},
   "outputs": [
    {
     "name": "stdout",
     "output_type": "stream",
     "text": [
      "My favourite number is 28.\n"
     ]
    }
   ],
   "source": [
    "x = 28\n",
    "print(f'My favourite number is {x}.')"
   ]
  },
  {
   "cell_type": "code",
   "execution_count": null,
   "id": "87e77aa9",
   "metadata": {},
   "outputs": [],
   "source": []
  }
 ],
 "metadata": {
  "kernelspec": {
   "display_name": "Python 3 (ipykernel)",
   "language": "python",
   "name": "python3"
  },
  "language_info": {
   "codemirror_mode": {
    "name": "ipython",
    "version": 3
   },
   "file_extension": ".py",
   "mimetype": "text/x-python",
   "name": "python",
   "nbconvert_exporter": "python",
   "pygments_lexer": "ipython3",
   "version": "3.10.12"
  }
 },
 "nbformat": 4,
 "nbformat_minor": 5
}
