{
    "metadata": {
        "kernelspec": {
            "name": "SQL",
            "display_name": "SQL",
            "language": "sql"
        },
        "language_info": {
            "name": "sql",
            "version": ""
        }
    },
    "nbformat_minor": 2,
    "nbformat": 4,
    "cells": [
        {
            "cell_type": "markdown",
            "source": [
                "# Variables in SQL"
            ],
            "metadata": {
                "azdata_cell_guid": "14d2b1f9-dc01-4e9a-badf-2775e9306d7d"
            },
            "attachments": {}
        },
        {
            "cell_type": "markdown",
            "source": [
                "## Variable with a Subquery 1\n",
                "\n",
                "_Using the Northwind\\_2023 database:_  \n",
                "\n",
                "Take the subqueries from your Subqueries notebook and recreate using a Variable for the scalar value used in the WHERE clause."
            ],
            "metadata": {
                "azdata_cell_guid": "80bcae77-9853-4278-96b3-c46ef356e09f"
            },
            "attachments": {}
        }
    ]
}