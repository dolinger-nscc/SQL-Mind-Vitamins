{
    "metadata": {
        "kernelspec": {
            "name": "SQL",
            "display_name": "SQL",
            "language": "sql"
        },
        "language_info": {
            "name": "sql",
            "version": ""
        }
    },
    "nbformat_minor": 2,
    "nbformat": 4,
    "cells": [
        {
            "cell_type": "markdown",
            "source": [
                "# Variables in SQL"
            ],
            "metadata": {
                "azdata_cell_guid": "14d2b1f9-dc01-4e9a-badf-2775e9306d7d"
            },
            "attachments": {}
        },
        {
            "cell_type": "markdown",
            "source": [
                "## Variable with a Subquery 1\n",
                "\n",
                "_Using the Northwind\\_2023 database:_  \n",
                "\n",
                "Take the subqueries from your Subqueries notebook and recreate using a Variable for the scalar value used in the WHERE clause."
            ],
            "metadata": {
                "azdata_cell_guid": "80bcae77-9853-4278-96b3-c46ef356e09f"
            },
            "attachments": {}
        },
        {
            "cell_type": "code",
            "source": [
                "USE Northwind_2023;\r\n",
                "GO\r\n",
                "\r\n",
                "DECLARE @AvgPrice FLOAT = (SELECT AVG(UnitPrice) FROM dbo.Products);\r\n",
                "\r\n",
                "SELECT ProductName\r\n",
                "\t  ,UnitPrice\r\n",
                "FROM dbo.Products\r\n",
                "WHERE UnitPrice > @AvgPrice\r\n",
                "ORDER BY UnitPrice DESC\r\n",
                ";\r\n",
                "\r\n",
                "GO"
            ],
            "metadata": {
                "azdata_cell_guid": "bffb8aee-630e-4283-8d17-f43df609dbad",
                "language": "sql"
            },
            "outputs": [
                {
                    "output_type": "display_data",
                    "data": {
                        "text/html": "Commands completed successfully."
                    },
                    "metadata": {}
                },
                {
                    "output_type": "display_data",
                    "data": {
                        "text/html": "(25 rows affected)"
                    },
                    "metadata": {}
                },
                {
                    "output_type": "display_data",
                    "data": {
                        "text/html": "Total execution time: 00:00:00.055"
                    },
                    "metadata": {}
                },
                {
                    "output_type": "execute_result",
                    "metadata": {},
                    "execution_count": 1,
                    "data": {
                        "application/vnd.dataresource+json": {
                            "schema": {
                                "fields": [
                                    {
                                        "name": "ProductName"
                                    },
                                    {
                                        "name": "UnitPrice"
                                    }
                                ]
                            },
                            "data": [
                                {
                                    "ProductName": "Côte de Blaye",
                                    "UnitPrice": "263.50"
                                },
                                {
                                    "ProductName": "Thüringer Rostbratwurst",
                                    "UnitPrice": "123.79"
                                },
                                {
                                    "ProductName": "Mishi Kobe Niku",
                                    "UnitPrice": "97.00"
                                },
                                {
                                    "ProductName": "Sir Rodney's Marmalade",
                                    "UnitPrice": "81.00"
                                },
                                {
                                    "ProductName": "Carnarvon Tigers",
                                    "UnitPrice": "62.50"
                                },
                                {
                                    "ProductName": "Raclette Courdavault",
                                    "UnitPrice": "55.00"
                                },
                                {
                                    "ProductName": "Manjimup Dried Apples",
                                    "UnitPrice": "53.00"
                                },
                                {
                                    "ProductName": "Tarte au sucre",
                                    "UnitPrice": "49.30"
                                },
                                {
                                    "ProductName": "Ipoh Coffee",
                                    "UnitPrice": "46.00"
                                },
                                {
                                    "ProductName": "Rössle Sauerkraut",
                                    "UnitPrice": "45.60"
                                },
                                {
                                    "ProductName": "Vegie-spread",
                                    "UnitPrice": "43.90"
                                },
                                {
                                    "ProductName": "Schoggi Schokolade",
                                    "UnitPrice": "43.90"
                                },
                                {
                                    "ProductName": "Northwoods Cranberry Sauce",
                                    "UnitPrice": "40.00"
                                },
                                {
                                    "ProductName": "Alice Mutton",
                                    "UnitPrice": "39.00"
                                },
                                {
                                    "ProductName": "Queso Manchego La Pastora",
                                    "UnitPrice": "38.00"
                                },
                                {
                                    "ProductName": "Gnocchi di nonna Alice",
                                    "UnitPrice": "38.00"
                                },
                                {
                                    "ProductName": "Gudbrandsdalsost",
                                    "UnitPrice": "36.00"
                                },
                                {
                                    "ProductName": "Mozzarella di Giovanni",
                                    "UnitPrice": "34.80"
                                },
                                {
                                    "ProductName": "Camembert Pierrot",
                                    "UnitPrice": "34.00"
                                },
                                {
                                    "ProductName": "Wimmers gute Semmelknödel",
                                    "UnitPrice": "33.25"
                                },
                                {
                                    "ProductName": "Perth Pasties",
                                    "UnitPrice": "32.80"
                                },
                                {
                                    "ProductName": "Mascarpone Fabioli",
                                    "UnitPrice": "32.00"
                                },
                                {
                                    "ProductName": "Gumbär Gummibärchen",
                                    "UnitPrice": "31.23"
                                },
                                {
                                    "ProductName": "Ikura",
                                    "UnitPrice": "31.00"
                                },
                                {
                                    "ProductName": "Uncle Bob's Organic Dried Pears",
                                    "UnitPrice": "30.00"
                                }
                            ]
                        },
                        "text/html": [
                            "<table>",
                            "<tr><th>ProductName</th><th>UnitPrice</th></tr>",
                            "<tr><td>Côte de Blaye</td><td>263.50</td></tr>",
                            "<tr><td>Thüringer Rostbratwurst</td><td>123.79</td></tr>",
                            "<tr><td>Mishi Kobe Niku</td><td>97.00</td></tr>",
                            "<tr><td>Sir Rodney&#39;s Marmalade</td><td>81.00</td></tr>",
                            "<tr><td>Carnarvon Tigers</td><td>62.50</td></tr>",
                            "<tr><td>Raclette Courdavault</td><td>55.00</td></tr>",
                            "<tr><td>Manjimup Dried Apples</td><td>53.00</td></tr>",
                            "<tr><td>Tarte au sucre</td><td>49.30</td></tr>",
                            "<tr><td>Ipoh Coffee</td><td>46.00</td></tr>",
                            "<tr><td>Rössle Sauerkraut</td><td>45.60</td></tr>",
                            "<tr><td>Vegie-spread</td><td>43.90</td></tr>",
                            "<tr><td>Schoggi Schokolade</td><td>43.90</td></tr>",
                            "<tr><td>Northwoods Cranberry Sauce</td><td>40.00</td></tr>",
                            "<tr><td>Alice Mutton</td><td>39.00</td></tr>",
                            "<tr><td>Queso Manchego La Pastora</td><td>38.00</td></tr>",
                            "<tr><td>Gnocchi di nonna Alice</td><td>38.00</td></tr>",
                            "<tr><td>Gudbrandsdalsost</td><td>36.00</td></tr>",
                            "<tr><td>Mozzarella di Giovanni</td><td>34.80</td></tr>",
                            "<tr><td>Camembert Pierrot</td><td>34.00</td></tr>",
                            "<tr><td>Wimmers gute Semmelknödel</td><td>33.25</td></tr>",
                            "<tr><td>Perth Pasties</td><td>32.80</td></tr>",
                            "<tr><td>Mascarpone Fabioli</td><td>32.00</td></tr>",
                            "<tr><td>Gumbär Gummibärchen</td><td>31.23</td></tr>",
                            "<tr><td>Ikura</td><td>31.00</td></tr>",
                            "<tr><td>Uncle Bob&#39;s Organic Dried Pears</td><td>30.00</td></tr>",
                            "</table>"
                        ]
                    }
                }
            ],
            "execution_count": 1
        },
        {
            "cell_type": "markdown",
            "source": [
                "## Using SET  \n",
                "\n",
                "Using SET instead of direct setting of the variable during the declare."
            ],
            "metadata": {
                "language": "sql",
                "azdata_cell_guid": "4d8b4efb-6799-4191-ae0f-794c5a125b5d"
            },
            "attachments": {}
        },
        {
            "cell_type": "code",
            "source": [
                "USE Northwind_2023;\r\n",
                "GO\r\n",
                "\r\n",
                "DECLARE @LastDate DATE;\r\n",
                "SET @LastDate = (SELECT DATEADD(yy,-1, (SELECT MAX(OrderDate)FROM dbo.Orders)));\r\n",
                "\r\n",
                "\r\n",
                "SELECT TOP 5 WITH TIES ShipCountry\r\n",
                "      ,round(AVG(Freight),2) as 'AvgFreight'\r\n",
                "FROM dbo.Orders\r\n",
                "WHERE OrderDate > @LastDate\r\n",
                "GROUP BY ShipCountry\r\n",
                "ORDER BY AvgFreight DESC\r\n",
                "; -- 21 countries total"
            ],
            "metadata": {
                "language": "sql",
                "azdata_cell_guid": "0b795faf-13de-4bc2-8c6e-ded0f3d682e7"
            },
            "outputs": [
                {
                    "output_type": "display_data",
                    "data": {
                        "text/html": "Commands completed successfully."
                    },
                    "metadata": {}
                },
                {
                    "output_type": "display_data",
                    "data": {
                        "text/html": "(5 rows affected)"
                    },
                    "metadata": {}
                },
                {
                    "output_type": "display_data",
                    "data": {
                        "text/html": "Total execution time: 00:00:00.008"
                    },
                    "metadata": {}
                },
                {
                    "output_type": "execute_result",
                    "metadata": {},
                    "execution_count": 2,
                    "data": {
                        "application/vnd.dataresource+json": {
                            "schema": {
                                "fields": [
                                    {
                                        "name": "ShipCountry"
                                    },
                                    {
                                        "name": "AvgFreight"
                                    }
                                ]
                            },
                            "data": [
                                {
                                    "ShipCountry": "Ireland",
                                    "AvgFreight": "200.21"
                                },
                                {
                                    "ShipCountry": "Austria",
                                    "AvgFreight": "186.46"
                                },
                                {
                                    "ShipCountry": "USA",
                                    "AvgFreight": "119.30"
                                },
                                {
                                    "ShipCountry": "Germany",
                                    "AvgFreight": "105.85"
                                },
                                {
                                    "ShipCountry": "Sweden",
                                    "AvgFreight": "100.12"
                                }
                            ]
                        },
                        "text/html": [
                            "<table>",
                            "<tr><th>ShipCountry</th><th>AvgFreight</th></tr>",
                            "<tr><td>Ireland</td><td>200.21</td></tr>",
                            "<tr><td>Austria</td><td>186.46</td></tr>",
                            "<tr><td>USA</td><td>119.30</td></tr>",
                            "<tr><td>Germany</td><td>105.85</td></tr>",
                            "<tr><td>Sweden</td><td>100.12</td></tr>",
                            "</table>"
                        ]
                    }
                }
            ],
            "execution_count": 2
        }
    ]
}