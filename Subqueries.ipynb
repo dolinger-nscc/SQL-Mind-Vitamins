{
    "metadata": {
        "kernelspec": {
            "name": "SQL",
            "display_name": "SQL",
            "language": "sql"
        },
        "language_info": {
            "name": "sql",
            "version": ""
        }
    },
    "nbformat_minor": 2,
    "nbformat": 4,
    "cells": [
        {
            "cell_type": "markdown",
            "source": [
                "# Subqueries\r\n",
                ""
            ],
            "metadata": {
                "azdata_cell_guid": "b0f06ec7-8f51-4514-a5ec-e555ddff6199"
            },
            "attachments": {}
        },
        {
            "cell_type": "markdown",
            "source": [
                "## Subquery 1\n",
                "\n",
                "_Using the Northwind\\_2023 database:_  \n",
                "\n",
                "Create a list of products (return ProductName, and UnitPrice) where the Unitprice is greater than the average of all products.\n",
                "\n",
                "_Results:_\n",
                "\n",
                "Note: Image only shows a subset of returned rows.\n",
                "\n",
                "![GreaterThanAvgUnitPrice.png](attachment:GreaterThanAvgUnitPrice.png)"
            ],
            "metadata": {
                "azdata_cell_guid": "71c71bdf-a8eb-40b0-8d94-6d6548717bb2"
            },
            "attachments": {
                "GreaterThanAvgUnitPrice.png": {
                    "image/png": "[encoded data removed]"
                }
            }
        },
        {
            "cell_type": "markdown",
            "source": [
                "### Create the WHERE Clause\r\n",
                "\r\n",
                "Create the aggregate value to filter the details on."
            ],
            "metadata": {
                "azdata_cell_guid": "83bff195-e309-4b03-88c7-a251de97aaba"
            },
            "attachments": {}
        },
        {
            "cell_type": "code",
            "source": [
                "/* Code Here, use as many code blocks as required */\r\n",
                "\r\n",
                "USE Northwind_2023;\r\n",
                "GO\r\n",
                "\r\n",
                "--Create my WHERE filter...\r\n",
                "SELECT AVG(UnitPrice) as 'AvgUnitPrice' FROM dbo.Products\r\n",
                "\r\n",
                ""
            ],
            "metadata": {
                "azdata_cell_guid": "9fd1ed69-c4d8-4dd6-b371-b1c8ce25acd3",
                "language": "sql",
                "tags": []
            },
            "outputs": [
                {
                    "output_type": "display_data",
                    "data": {
                        "text/html": "Commands completed successfully."
                    },
                    "metadata": {}
                },
                {
                    "output_type": "display_data",
                    "data": {
                        "text/html": "(1 row affected)"
                    },
                    "metadata": {}
                },
                {
                    "output_type": "display_data",
                    "data": {
                        "text/html": "Total execution time: 00:00:00.006"
                    },
                    "metadata": {}
                },
                {
                    "output_type": "execute_result",
                    "execution_count": 3,
                    "data": {
                        "application/vnd.dataresource+json": {
                            "schema": {
                                "fields": [
                                    {
                                        "name": "AvgUnitPrice"
                                    }
                                ]
                            },
                            "data": [
                                {
                                    "AvgUnitPrice": "28.8663"
                                }
                            ]
                        },
                        "text/html": "<table><tr><th>AvgUnitPrice</th></tr><tr><td>28.8663</td></tr></table>"
                    },
                    "metadata": {}
                }
            ],
            "execution_count": 3
        },
        {
            "cell_type": "code",
            "source": [
                "USE Northwind_2023;\r\n",
                "GO\r\n",
                "\r\n",
                "SELECT ProductName\r\n",
                "\t  ,UnitPrice\r\n",
                "FROM dbo.Products\r\n",
                "WHERE UnitPrice > (SELECT AVG(UnitPrice) FROM dbo.Products)\r\n",
                "ORDER BY UnitPrice DESC\r\n",
                ";"
            ],
            "metadata": {
                "azdata_cell_guid": "ff7a6110-e181-4aa8-b146-7f6e59b227fa",
                "language": "sql"
            },
            "outputs": [
                {
                    "output_type": "display_data",
                    "data": {
                        "text/html": "Commands completed successfully."
                    },
                    "metadata": {}
                },
                {
                    "output_type": "display_data",
                    "data": {
                        "text/html": "(25 rows affected)"
                    },
                    "metadata": {}
                },
                {
                    "output_type": "display_data",
                    "data": {
                        "text/html": "Total execution time: 00:00:00.007"
                    },
                    "metadata": {}
                },
                {
                    "output_type": "execute_result",
                    "execution_count": 4,
                    "data": {
                        "application/vnd.dataresource+json": {
                            "schema": {
                                "fields": [
                                    {
                                        "name": "ProductName"
                                    },
                                    {
                                        "name": "UnitPrice"
                                    }
                                ]
                            },
                            "data": [
                                {
                                    "ProductName": "Côte de Blaye",
                                    "UnitPrice": "263.50"
                                },
                                {
                                    "ProductName": "Thüringer Rostbratwurst",
                                    "UnitPrice": "123.79"
                                },
                                {
                                    "ProductName": "Mishi Kobe Niku",
                                    "UnitPrice": "97.00"
                                },
                                {
                                    "ProductName": "Sir Rodney's Marmalade",
                                    "UnitPrice": "81.00"
                                },
                                {
                                    "ProductName": "Carnarvon Tigers",
                                    "UnitPrice": "62.50"
                                },
                                {
                                    "ProductName": "Raclette Courdavault",
                                    "UnitPrice": "55.00"
                                },
                                {
                                    "ProductName": "Manjimup Dried Apples",
                                    "UnitPrice": "53.00"
                                },
                                {
                                    "ProductName": "Tarte au sucre",
                                    "UnitPrice": "49.30"
                                },
                                {
                                    "ProductName": "Ipoh Coffee",
                                    "UnitPrice": "46.00"
                                },
                                {
                                    "ProductName": "Rössle Sauerkraut",
                                    "UnitPrice": "45.60"
                                },
                                {
                                    "ProductName": "Vegie-spread",
                                    "UnitPrice": "43.90"
                                },
                                {
                                    "ProductName": "Schoggi Schokolade",
                                    "UnitPrice": "43.90"
                                },
                                {
                                    "ProductName": "Northwoods Cranberry Sauce",
                                    "UnitPrice": "40.00"
                                },
                                {
                                    "ProductName": "Alice Mutton",
                                    "UnitPrice": "39.00"
                                },
                                {
                                    "ProductName": "Queso Manchego La Pastora",
                                    "UnitPrice": "38.00"
                                },
                                {
                                    "ProductName": "Gnocchi di nonna Alice",
                                    "UnitPrice": "38.00"
                                },
                                {
                                    "ProductName": "Gudbrandsdalsost",
                                    "UnitPrice": "36.00"
                                },
                                {
                                    "ProductName": "Mozzarella di Giovanni",
                                    "UnitPrice": "34.80"
                                },
                                {
                                    "ProductName": "Camembert Pierrot",
                                    "UnitPrice": "34.00"
                                },
                                {
                                    "ProductName": "Wimmers gute Semmelknödel",
                                    "UnitPrice": "33.25"
                                },
                                {
                                    "ProductName": "Perth Pasties",
                                    "UnitPrice": "32.80"
                                },
                                {
                                    "ProductName": "Mascarpone Fabioli",
                                    "UnitPrice": "32.00"
                                },
                                {
                                    "ProductName": "Gumbär Gummibärchen",
                                    "UnitPrice": "31.23"
                                },
                                {
                                    "ProductName": "Ikura",
                                    "UnitPrice": "31.00"
                                },
                                {
                                    "ProductName": "Uncle Bob's Organic Dried Pears",
                                    "UnitPrice": "30.00"
                                }
                            ]
                        },
                        "text/html": "<table><tr><th>ProductName</th><th>UnitPrice</th></tr><tr><td>Côte de Blaye</td><td>263.50</td></tr><tr><td>Thüringer Rostbratwurst</td><td>123.79</td></tr><tr><td>Mishi Kobe Niku</td><td>97.00</td></tr><tr><td>Sir Rodney&#39;s Marmalade</td><td>81.00</td></tr><tr><td>Carnarvon Tigers</td><td>62.50</td></tr><tr><td>Raclette Courdavault</td><td>55.00</td></tr><tr><td>Manjimup Dried Apples</td><td>53.00</td></tr><tr><td>Tarte au sucre</td><td>49.30</td></tr><tr><td>Ipoh Coffee</td><td>46.00</td></tr><tr><td>Rössle Sauerkraut</td><td>45.60</td></tr><tr><td>Vegie-spread</td><td>43.90</td></tr><tr><td>Schoggi Schokolade</td><td>43.90</td></tr><tr><td>Northwoods Cranberry Sauce</td><td>40.00</td></tr><tr><td>Alice Mutton</td><td>39.00</td></tr><tr><td>Queso Manchego La Pastora</td><td>38.00</td></tr><tr><td>Gnocchi di nonna Alice</td><td>38.00</td></tr><tr><td>Gudbrandsdalsost</td><td>36.00</td></tr><tr><td>Mozzarella di Giovanni</td><td>34.80</td></tr><tr><td>Camembert Pierrot</td><td>34.00</td></tr><tr><td>Wimmers gute Semmelknödel</td><td>33.25</td></tr><tr><td>Perth Pasties</td><td>32.80</td></tr><tr><td>Mascarpone Fabioli</td><td>32.00</td></tr><tr><td>Gumbär Gummibärchen</td><td>31.23</td></tr><tr><td>Ikura</td><td>31.00</td></tr><tr><td>Uncle Bob&#39;s Organic Dried Pears</td><td>30.00</td></tr></table>"
                    },
                    "metadata": {}
                }
            ],
            "execution_count": 4
        },
        {
            "cell_type": "markdown",
            "source": [
                "## Subquery 2\n",
                "\n",
                "_Using the Northwind\\_2023 database:_  \n",
                "\n",
                "Return the average freight charges from most to least for the five countries with the highest freight charges. This query will only return the data for the last year. The \"last year\" is determined by using the latest order date in the Orders table.\n",
                "\n",
                "_Results:_\n",
                "\n",
                "![highest5shipping.png](data:image/png;base64,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)"
            ],
            "metadata": {
                "azdata_cell_guid": "8149ea77-0ce8-4b6b-969a-6f0789467bec"
            },
            "attachments": {}
        },
        {
            "cell_type": "code",
            "source": [
                "USE Northwind_2023;\r\n",
                "GO\r\n",
                "\r\n",
                "SELECT TOP 5 WITH TIES ShipCountry\r\n",
                "      ,round(AVG(Freight),2) as 'AvgFreight'\r\n",
                "FROM dbo.Orders\r\n",
                "WHERE OrderDate > (SELECT DATEADD(yy,-1, (SELECT MAX(OrderDate)FROM dbo.Orders)))\r\n",
                "GROUP BY ShipCountry\r\n",
                "ORDER BY AvgFreight DESC\r\n",
                "; -- 21 countries total\r\n",
                ""
            ],
            "metadata": {
                "azdata_cell_guid": "a1495763-a90f-475b-90c5-d946a4c2acdb",
                "language": "sql",
                "tags": []
            },
            "outputs": [
                {
                    "output_type": "display_data",
                    "data": {
                        "text/html": "Commands completed successfully."
                    },
                    "metadata": {}
                },
                {
                    "output_type": "display_data",
                    "data": {
                        "text/html": "(5 rows affected)"
                    },
                    "metadata": {}
                },
                {
                    "output_type": "display_data",
                    "data": {
                        "text/html": "Total execution time: 00:00:00.091"
                    },
                    "metadata": {}
                },
                {
                    "output_type": "execute_result",
                    "metadata": {},
                    "execution_count": 2,
                    "data": {
                        "application/vnd.dataresource+json": {
                            "schema": {
                                "fields": [
                                    {
                                        "name": "ShipCountry"
                                    },
                                    {
                                        "name": "AvgFreight"
                                    }
                                ]
                            },
                            "data": [
                                {
                                    "ShipCountry": "Ireland",
                                    "AvgFreight": "200.21"
                                },
                                {
                                    "ShipCountry": "Austria",
                                    "AvgFreight": "186.46"
                                },
                                {
                                    "ShipCountry": "USA",
                                    "AvgFreight": "119.30"
                                },
                                {
                                    "ShipCountry": "Germany",
                                    "AvgFreight": "105.85"
                                },
                                {
                                    "ShipCountry": "Sweden",
                                    "AvgFreight": "100.12"
                                }
                            ]
                        },
                        "text/html": [
                            "<table>",
                            "<tr><th>ShipCountry</th><th>AvgFreight</th></tr>",
                            "<tr><td>Ireland</td><td>200.21</td></tr>",
                            "<tr><td>Austria</td><td>186.46</td></tr>",
                            "<tr><td>USA</td><td>119.30</td></tr>",
                            "<tr><td>Germany</td><td>105.85</td></tr>",
                            "<tr><td>Sweden</td><td>100.12</td></tr>",
                            "</table>"
                        ]
                    }
                }
            ],
            "execution_count": 2
        },
        {
            "cell_type": "code",
            "source": [
                "USE Northwind_2023;\r\n",
                "GO\r\n",
                "\r\n",
                "SELECT TOP 5 WITH TIES cust.Country as 'CustomerCountry'\r\n",
                "      ,round(AVG(ord.Freight),2) as 'AvgFreight'\r\n",
                "FROM dbo.Orders ord\r\n",
                "\tINNER JOIN dbo.Customers cust\r\n",
                "\tON ord.CustomerID = cust.CustomerID\r\n",
                "WHERE ord.OrderDate > (SELECT DATEADD(yy,-1, (SELECT MAX(OrderDate)FROM dbo.Orders)))\r\n",
                "GROUP BY cust.Country\r\n",
                "ORDER BY AvgFreight DESC\r\n",
                "; -- 21 countries total"
            ],
            "metadata": {
                "azdata_cell_guid": "4138ad26-0c32-441a-adca-7cd04c91c1c3",
                "language": "sql"
            },
            "outputs": [
                {
                    "output_type": "display_data",
                    "data": {
                        "text/html": "Commands completed successfully."
                    },
                    "metadata": {}
                },
                {
                    "output_type": "display_data",
                    "data": {
                        "text/html": "(5 rows affected)"
                    },
                    "metadata": {}
                },
                {
                    "output_type": "display_data",
                    "data": {
                        "text/html": "Total execution time: 00:00:00.019"
                    },
                    "metadata": {}
                },
                {
                    "output_type": "execute_result",
                    "metadata": {},
                    "execution_count": 3,
                    "data": {
                        "application/vnd.dataresource+json": {
                            "schema": {
                                "fields": [
                                    {
                                        "name": "CustomerCountry"
                                    },
                                    {
                                        "name": "AvgFreight"
                                    }
                                ]
                            },
                            "data": [
                                {
                                    "CustomerCountry": "Ireland",
                                    "AvgFreight": "200.21"
                                },
                                {
                                    "CustomerCountry": "Austria",
                                    "AvgFreight": "186.46"
                                },
                                {
                                    "CustomerCountry": "USA",
                                    "AvgFreight": "119.30"
                                },
                                {
                                    "CustomerCountry": "Germany",
                                    "AvgFreight": "105.85"
                                },
                                {
                                    "CustomerCountry": "Sweden",
                                    "AvgFreight": "100.12"
                                }
                            ]
                        },
                        "text/html": [
                            "<table>",
                            "<tr><th>CustomerCountry</th><th>AvgFreight</th></tr>",
                            "<tr><td>Ireland</td><td>200.21</td></tr>",
                            "<tr><td>Austria</td><td>186.46</td></tr>",
                            "<tr><td>USA</td><td>119.30</td></tr>",
                            "<tr><td>Germany</td><td>105.85</td></tr>",
                            "<tr><td>Sweden</td><td>100.12</td></tr>",
                            "</table>"
                        ]
                    }
                }
            ],
            "execution_count": 3
        }
    ]
}